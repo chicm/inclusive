{
 "cells": [
  {
   "cell_type": "code",
   "execution_count": 1,
   "metadata": {},
   "outputs": [],
   "source": [
    "import os\n",
    "import numpy as np\n",
    "import pandas as pd\n",
    "\n",
    "from random import randint\n",
    "\n",
    "import matplotlib.pyplot as plt\n",
    "plt.style.use('seaborn-white')\n",
    "import seaborn as sns\n",
    "sns.set_style(\"white\")\n",
    "\n",
    "import settings"
   ]
  },
  {
   "cell_type": "code",
   "execution_count": 2,
   "metadata": {},
   "outputs": [
    {
     "data": {
      "text/html": [
       "<div>\n",
       "<style scoped>\n",
       "    .dataframe tbody tr th:only-of-type {\n",
       "        vertical-align: middle;\n",
       "    }\n",
       "\n",
       "    .dataframe tbody tr th {\n",
       "        vertical-align: top;\n",
       "    }\n",
       "\n",
       "    .dataframe thead th {\n",
       "        text-align: right;\n",
       "    }\n",
       "</style>\n",
       "<table border=\"1\" class=\"dataframe\">\n",
       "  <thead>\n",
       "    <tr style=\"text-align: right;\">\n",
       "      <th></th>\n",
       "      <th>id</th>\n",
       "      <th>labels</th>\n",
       "    </tr>\n",
       "  </thead>\n",
       "  <tbody>\n",
       "    <tr>\n",
       "      <th>0</th>\n",
       "      <td>2b2f44594449326f4e52553d</td>\n",
       "      <td>/m/06ts_6 /m/01g317</td>\n",
       "    </tr>\n",
       "    <tr>\n",
       "      <th>1</th>\n",
       "      <td>2b333057383432514454593d</td>\n",
       "      <td>/m/01g317 /m/06ts_6 /m/01jpn4 /m/0dnkv</td>\n",
       "    </tr>\n",
       "    <tr>\n",
       "      <th>2</th>\n",
       "      <td>2b38364476612f6c4558383d</td>\n",
       "      <td>/m/01g317 /m/05zp8</td>\n",
       "    </tr>\n",
       "    <tr>\n",
       "      <th>3</th>\n",
       "      <td>2b4270756237642b7456453d</td>\n",
       "      <td>/m/0jjw /m/015r61 /m/02csf /m/05qdh</td>\n",
       "    </tr>\n",
       "    <tr>\n",
       "      <th>4</th>\n",
       "      <td>2b4534307571444f412b4d3d</td>\n",
       "      <td>/m/099fz</td>\n",
       "    </tr>\n",
       "  </tbody>\n",
       "</table>\n",
       "</div>"
      ],
      "text/plain": [
       "                         id                                  labels\n",
       "0  2b2f44594449326f4e52553d                     /m/06ts_6 /m/01g317\n",
       "1  2b333057383432514454593d  /m/01g317 /m/06ts_6 /m/01jpn4 /m/0dnkv\n",
       "2  2b38364476612f6c4558383d                      /m/01g317 /m/05zp8\n",
       "3  2b4270756237642b7456453d     /m/0jjw /m/015r61 /m/02csf /m/05qdh\n",
       "4  2b4534307571444f412b4d3d                                /m/099fz"
      ]
     },
     "execution_count": 2,
     "metadata": {},
     "output_type": "execute_result"
    }
   ],
   "source": [
    "TUNING_LABLES_FILE = os.path.join(settings.DATA_DIR, 'tuning_labels.csv')\n",
    "df_tuning = pd.read_csv(TUNING_LABLES_FILE, names=['id', 'labels'])\n",
    "df_tuning.head()"
   ]
  },
  {
   "cell_type": "code",
   "execution_count": 3,
   "metadata": {},
   "outputs": [
    {
     "data": {
      "text/html": [
       "<div>\n",
       "<style scoped>\n",
       "    .dataframe tbody tr th:only-of-type {\n",
       "        vertical-align: middle;\n",
       "    }\n",
       "\n",
       "    .dataframe tbody tr th {\n",
       "        vertical-align: top;\n",
       "    }\n",
       "\n",
       "    .dataframe thead th {\n",
       "        text-align: right;\n",
       "    }\n",
       "</style>\n",
       "<table border=\"1\" class=\"dataframe\">\n",
       "  <thead>\n",
       "    <tr style=\"text-align: right;\">\n",
       "      <th></th>\n",
       "      <th>count</th>\n",
       "    </tr>\n",
       "  </thead>\n",
       "  <tbody>\n",
       "    <tr>\n",
       "      <th>/m/01g317</th>\n",
       "      <td>325</td>\n",
       "    </tr>\n",
       "    <tr>\n",
       "      <th>/m/05s2s</th>\n",
       "      <td>122</td>\n",
       "    </tr>\n",
       "    <tr>\n",
       "      <th>/m/07j7r</th>\n",
       "      <td>109</td>\n",
       "    </tr>\n",
       "    <tr>\n",
       "      <th>/m/01c8br</th>\n",
       "      <td>63</td>\n",
       "    </tr>\n",
       "    <tr>\n",
       "      <th>/m/083vt</th>\n",
       "      <td>57</td>\n",
       "    </tr>\n",
       "  </tbody>\n",
       "</table>\n",
       "</div>"
      ],
      "text/plain": [
       "           count\n",
       "/m/01g317    325\n",
       "/m/05s2s     122\n",
       "/m/07j7r     109\n",
       "/m/01c8br     63\n",
       "/m/083vt      57"
      ]
     },
     "execution_count": 3,
     "metadata": {},
     "output_type": "execute_result"
    }
   ],
   "source": [
    "x = df_tuning['labels'].str.split().apply(pd.Series).stack().value_counts()\n",
    "df_x = pd.DataFrame(x, columns=['count'])\n",
    "df_x.head()\n"
   ]
  },
  {
   "cell_type": "code",
   "execution_count": 4,
   "metadata": {},
   "outputs": [],
   "source": [
    "df_desc = pd.read_csv(os.path.join(settings.DATA_DIR, 'class-descriptions.csv'), index_col='label_code')\n",
    "df_desc.head()\n",
    "\n",
    "df_x = df_x.join(df_desc)"
   ]
  },
  {
   "cell_type": "code",
   "execution_count": 5,
   "metadata": {},
   "outputs": [
    {
     "data": {
      "text/html": [
       "<div>\n",
       "<style scoped>\n",
       "    .dataframe tbody tr th:only-of-type {\n",
       "        vertical-align: middle;\n",
       "    }\n",
       "\n",
       "    .dataframe tbody tr th {\n",
       "        vertical-align: top;\n",
       "    }\n",
       "\n",
       "    .dataframe thead th {\n",
       "        text-align: right;\n",
       "    }\n",
       "</style>\n",
       "<table border=\"1\" class=\"dataframe\">\n",
       "  <thead>\n",
       "    <tr style=\"text-align: right;\">\n",
       "      <th></th>\n",
       "      <th>count</th>\n",
       "      <th>description</th>\n",
       "    </tr>\n",
       "  </thead>\n",
       "  <tbody>\n",
       "    <tr>\n",
       "      <th>/m/01g317</th>\n",
       "      <td>325</td>\n",
       "      <td>Person</td>\n",
       "    </tr>\n",
       "    <tr>\n",
       "      <th>/m/05s2s</th>\n",
       "      <td>122</td>\n",
       "      <td>Plant</td>\n",
       "    </tr>\n",
       "    <tr>\n",
       "      <th>/m/07j7r</th>\n",
       "      <td>109</td>\n",
       "      <td>Tree</td>\n",
       "    </tr>\n",
       "    <tr>\n",
       "      <th>/m/01c8br</th>\n",
       "      <td>63</td>\n",
       "      <td>Street</td>\n",
       "    </tr>\n",
       "    <tr>\n",
       "      <th>/m/083vt</th>\n",
       "      <td>57</td>\n",
       "      <td>Wood</td>\n",
       "    </tr>\n",
       "    <tr>\n",
       "      <th>/m/0199g</th>\n",
       "      <td>52</td>\n",
       "      <td>Bicycle</td>\n",
       "    </tr>\n",
       "    <tr>\n",
       "      <th>/m/02csf</th>\n",
       "      <td>48</td>\n",
       "      <td>Drawing</td>\n",
       "    </tr>\n",
       "    <tr>\n",
       "      <th>/m/05wrt</th>\n",
       "      <td>47</td>\n",
       "      <td>Property</td>\n",
       "    </tr>\n",
       "    <tr>\n",
       "      <th>/m/0jjw</th>\n",
       "      <td>45</td>\n",
       "      <td>Art</td>\n",
       "    </tr>\n",
       "    <tr>\n",
       "      <th>/m/0jyfg</th>\n",
       "      <td>42</td>\n",
       "      <td>Glasses</td>\n",
       "    </tr>\n",
       "    <tr>\n",
       "      <th>/m/07bsy</th>\n",
       "      <td>41</td>\n",
       "      <td>Transport</td>\n",
       "    </tr>\n",
       "    <tr>\n",
       "      <th>/m/0180xr</th>\n",
       "      <td>38</td>\n",
       "      <td>Neighbourhood</td>\n",
       "    </tr>\n",
       "    <tr>\n",
       "      <th>/m/07yv9</th>\n",
       "      <td>33</td>\n",
       "      <td>Vehicle</td>\n",
       "    </tr>\n",
       "    <tr>\n",
       "      <th>/m/06ts_6</th>\n",
       "      <td>33</td>\n",
       "      <td>Shopkeeper</td>\n",
       "    </tr>\n",
       "    <tr>\n",
       "      <th>/m/04szw</th>\n",
       "      <td>32</td>\n",
       "      <td>Musical instrument</td>\n",
       "    </tr>\n",
       "    <tr>\n",
       "      <th>/m/09rgp</th>\n",
       "      <td>30</td>\n",
       "      <td>Road bicycle</td>\n",
       "    </tr>\n",
       "    <tr>\n",
       "      <th>/m/05zdp</th>\n",
       "      <td>28</td>\n",
       "      <td>Public transport</td>\n",
       "    </tr>\n",
       "    <tr>\n",
       "      <th>/m/07vwy6</th>\n",
       "      <td>27</td>\n",
       "      <td>Street art</td>\n",
       "    </tr>\n",
       "    <tr>\n",
       "      <th>/m/04scj</th>\n",
       "      <td>27</td>\n",
       "      <td>Meat</td>\n",
       "    </tr>\n",
       "    <tr>\n",
       "      <th>/m/0k5j</th>\n",
       "      <td>25</td>\n",
       "      <td>Aircraft</td>\n",
       "    </tr>\n",
       "  </tbody>\n",
       "</table>\n",
       "</div>"
      ],
      "text/plain": [
       "           count         description\n",
       "/m/01g317    325              Person\n",
       "/m/05s2s     122               Plant\n",
       "/m/07j7r     109                Tree\n",
       "/m/01c8br     63              Street\n",
       "/m/083vt      57                Wood\n",
       "/m/0199g      52             Bicycle\n",
       "/m/02csf      48             Drawing\n",
       "/m/05wrt      47            Property\n",
       "/m/0jjw       45                 Art\n",
       "/m/0jyfg      42             Glasses\n",
       "/m/07bsy      41           Transport\n",
       "/m/0180xr     38       Neighbourhood\n",
       "/m/07yv9      33             Vehicle\n",
       "/m/06ts_6     33          Shopkeeper\n",
       "/m/04szw      32  Musical instrument\n",
       "/m/09rgp      30        Road bicycle\n",
       "/m/05zdp      28    Public transport\n",
       "/m/07vwy6     27          Street art\n",
       "/m/04scj      27                Meat\n",
       "/m/0k5j       25            Aircraft"
      ]
     },
     "execution_count": 5,
     "metadata": {},
     "output_type": "execute_result"
    }
   ],
   "source": [
    "df_x[:20]\n"
   ]
  },
  {
   "cell_type": "code",
   "execution_count": 6,
   "metadata": {},
   "outputs": [
    {
     "data": {
      "text/plain": [
       "7178"
      ]
     },
     "execution_count": 6,
     "metadata": {},
     "output_type": "execute_result"
    }
   ],
   "source": [
    "classes = pd.read_csv(os.path.join(settings.DATA_DIR, 'classes-trainable.csv'))['label_code'].values.tolist()\n",
    "classes[:10]\n",
    "len(classes)"
   ]
  },
  {
   "cell_type": "code",
   "execution_count": 7,
   "metadata": {},
   "outputs": [
    {
     "name": "stdout",
     "output_type": "stream",
     "text": [
      "(8036466, 3)\n",
      "(7117742, 3)\n"
     ]
    }
   ],
   "source": [
    "df_labels = pd.read_csv(os.path.join(settings.DATA_DIR, 'train_human_labels.csv'), index_col=['LabelName'])\n",
    "print(df_labels.shape)\n",
    "df_labels = df_labels[df_labels.index.isin(classes)]\n",
    "print(df_labels.shape)\n",
    "\n",
    "\n",
    "#pd_classes = df_labels['LabelName'].str.split().apply(pd.Series).stack().value_counts()"
   ]
  },
  {
   "cell_type": "code",
   "execution_count": 8,
   "metadata": {},
   "outputs": [
    {
     "data": {
      "text/html": [
       "<div>\n",
       "<style scoped>\n",
       "    .dataframe tbody tr th:only-of-type {\n",
       "        vertical-align: middle;\n",
       "    }\n",
       "\n",
       "    .dataframe tbody tr th {\n",
       "        vertical-align: top;\n",
       "    }\n",
       "\n",
       "    .dataframe thead th {\n",
       "        text-align: right;\n",
       "    }\n",
       "</style>\n",
       "<table border=\"1\" class=\"dataframe\">\n",
       "  <thead>\n",
       "    <tr style=\"text-align: right;\">\n",
       "      <th></th>\n",
       "      <th>ImageID</th>\n",
       "      <th>Source</th>\n",
       "      <th>Confidence</th>\n",
       "    </tr>\n",
       "    <tr>\n",
       "      <th>LabelName</th>\n",
       "      <th></th>\n",
       "      <th></th>\n",
       "      <th></th>\n",
       "    </tr>\n",
       "  </thead>\n",
       "  <tbody>\n",
       "    <tr>\n",
       "      <th>/m/01kcnl</th>\n",
       "      <td>000002b66c9c498e</td>\n",
       "      <td>crowdsource-verification</td>\n",
       "      <td>1</td>\n",
       "    </tr>\n",
       "    <tr>\n",
       "      <th>/m/012mj</th>\n",
       "      <td>000002b66c9c498e</td>\n",
       "      <td>verification</td>\n",
       "      <td>1</td>\n",
       "    </tr>\n",
       "    <tr>\n",
       "      <th>/m/012yh1</th>\n",
       "      <td>000002b66c9c498e</td>\n",
       "      <td>verification</td>\n",
       "      <td>1</td>\n",
       "    </tr>\n",
       "    <tr>\n",
       "      <th>/m/014sv8</th>\n",
       "      <td>000002b66c9c498e</td>\n",
       "      <td>verification</td>\n",
       "      <td>1</td>\n",
       "    </tr>\n",
       "    <tr>\n",
       "      <th>/m/016c68</th>\n",
       "      <td>000002b66c9c498e</td>\n",
       "      <td>verification</td>\n",
       "      <td>1</td>\n",
       "    </tr>\n",
       "  </tbody>\n",
       "</table>\n",
       "</div>"
      ],
      "text/plain": [
       "                    ImageID                    Source  Confidence\n",
       "LabelName                                                        \n",
       "/m/01kcnl  000002b66c9c498e  crowdsource-verification           1\n",
       "/m/012mj   000002b66c9c498e              verification           1\n",
       "/m/012yh1  000002b66c9c498e              verification           1\n",
       "/m/014sv8  000002b66c9c498e              verification           1\n",
       "/m/016c68  000002b66c9c498e              verification           1"
      ]
     },
     "execution_count": 8,
     "metadata": {},
     "output_type": "execute_result"
    }
   ],
   "source": [
    "df_labels.head()"
   ]
  },
  {
   "cell_type": "code",
   "execution_count": 9,
   "metadata": {},
   "outputs": [],
   "source": [
    "df_labels = df_labels.join(df_desc)"
   ]
  },
  {
   "cell_type": "code",
   "execution_count": 10,
   "metadata": {},
   "outputs": [
    {
     "data": {
      "text/html": [
       "<div>\n",
       "<style scoped>\n",
       "    .dataframe tbody tr th:only-of-type {\n",
       "        vertical-align: middle;\n",
       "    }\n",
       "\n",
       "    .dataframe tbody tr th {\n",
       "        vertical-align: top;\n",
       "    }\n",
       "\n",
       "    .dataframe thead th {\n",
       "        text-align: right;\n",
       "    }\n",
       "</style>\n",
       "<table border=\"1\" class=\"dataframe\">\n",
       "  <thead>\n",
       "    <tr style=\"text-align: right;\">\n",
       "      <th></th>\n",
       "      <th>ImageID</th>\n",
       "      <th>Source</th>\n",
       "      <th>Confidence</th>\n",
       "      <th>description</th>\n",
       "    </tr>\n",
       "  </thead>\n",
       "  <tbody>\n",
       "    <tr>\n",
       "      <th>/m/0108_09c</th>\n",
       "      <td>00dfa2c4e2e64998</td>\n",
       "      <td>verification</td>\n",
       "      <td>1</td>\n",
       "      <td>Summer snowflake</td>\n",
       "    </tr>\n",
       "    <tr>\n",
       "      <th>/m/0108_09c</th>\n",
       "      <td>01e4845070c326da</td>\n",
       "      <td>verification</td>\n",
       "      <td>1</td>\n",
       "      <td>Summer snowflake</td>\n",
       "    </tr>\n",
       "    <tr>\n",
       "      <th>/m/0108_09c</th>\n",
       "      <td>0bca57affd634e58</td>\n",
       "      <td>verification</td>\n",
       "      <td>1</td>\n",
       "      <td>Summer snowflake</td>\n",
       "    </tr>\n",
       "    <tr>\n",
       "      <th>/m/0108_09c</th>\n",
       "      <td>0e98ba59e16a735f</td>\n",
       "      <td>verification</td>\n",
       "      <td>1</td>\n",
       "      <td>Summer snowflake</td>\n",
       "    </tr>\n",
       "    <tr>\n",
       "      <th>/m/0108_09c</th>\n",
       "      <td>12a321611ca65cb5</td>\n",
       "      <td>verification</td>\n",
       "      <td>1</td>\n",
       "      <td>Summer snowflake</td>\n",
       "    </tr>\n",
       "  </tbody>\n",
       "</table>\n",
       "</div>"
      ],
      "text/plain": [
       "                      ImageID        Source  Confidence       description\n",
       "/m/0108_09c  00dfa2c4e2e64998  verification           1  Summer snowflake\n",
       "/m/0108_09c  01e4845070c326da  verification           1  Summer snowflake\n",
       "/m/0108_09c  0bca57affd634e58  verification           1  Summer snowflake\n",
       "/m/0108_09c  0e98ba59e16a735f  verification           1  Summer snowflake\n",
       "/m/0108_09c  12a321611ca65cb5  verification           1  Summer snowflake"
      ]
     },
     "execution_count": 10,
     "metadata": {},
     "output_type": "execute_result"
    }
   ],
   "source": [
    "df_labels.head()"
   ]
  },
  {
   "cell_type": "code",
   "execution_count": 11,
   "metadata": {},
   "outputs": [
    {
     "data": {
      "text/html": [
       "<div>\n",
       "<style scoped>\n",
       "    .dataframe tbody tr th:only-of-type {\n",
       "        vertical-align: middle;\n",
       "    }\n",
       "\n",
       "    .dataframe tbody tr th {\n",
       "        vertical-align: top;\n",
       "    }\n",
       "\n",
       "    .dataframe thead th {\n",
       "        text-align: right;\n",
       "    }\n",
       "</style>\n",
       "<table border=\"1\" class=\"dataframe\">\n",
       "  <thead>\n",
       "    <tr style=\"text-align: right;\">\n",
       "      <th></th>\n",
       "      <th>description</th>\n",
       "    </tr>\n",
       "    <tr>\n",
       "      <th>label_code</th>\n",
       "      <th></th>\n",
       "    </tr>\n",
       "  </thead>\n",
       "  <tbody>\n",
       "    <tr>\n",
       "      <th>/m/0100nhbf</th>\n",
       "      <td>Sprenger's tulip</td>\n",
       "    </tr>\n",
       "    <tr>\n",
       "      <th>/m/0104x9kv</th>\n",
       "      <td>Vinegret</td>\n",
       "    </tr>\n",
       "    <tr>\n",
       "      <th>/m/0105jzwx</th>\n",
       "      <td>Dabu-dabu</td>\n",
       "    </tr>\n",
       "    <tr>\n",
       "      <th>/m/0105ld7g</th>\n",
       "      <td>Pistachio ice cream</td>\n",
       "    </tr>\n",
       "    <tr>\n",
       "      <th>/m/0105lxy5</th>\n",
       "      <td>Woku</td>\n",
       "    </tr>\n",
       "  </tbody>\n",
       "</table>\n",
       "</div>"
      ],
      "text/plain": [
       "                     description\n",
       "label_code                      \n",
       "/m/0100nhbf     Sprenger's tulip\n",
       "/m/0104x9kv             Vinegret\n",
       "/m/0105jzwx            Dabu-dabu\n",
       "/m/0105ld7g  Pistachio ice cream\n",
       "/m/0105lxy5                 Woku"
      ]
     },
     "execution_count": 11,
     "metadata": {},
     "output_type": "execute_result"
    }
   ],
   "source": [
    "df_desc.head()"
   ]
  },
  {
   "cell_type": "code",
   "execution_count": 12,
   "metadata": {},
   "outputs": [],
   "source": [
    "counts = df_labels.index.value_counts()"
   ]
  },
  {
   "cell_type": "code",
   "execution_count": 28,
   "metadata": {},
   "outputs": [
    {
     "data": {
      "text/plain": [
       "pandas.core.series.Series"
      ]
     },
     "execution_count": 28,
     "metadata": {},
     "output_type": "execute_result"
    }
   ],
   "source": [
    "type(counts)"
   ]
  },
  {
   "cell_type": "code",
   "execution_count": 37,
   "metadata": {},
   "outputs": [],
   "source": [
    "df_counts = counts.to_frame(name='counts')\n",
    "df_counts.index.name='label_code'"
   ]
  },
  {
   "cell_type": "code",
   "execution_count": 39,
   "metadata": {},
   "outputs": [
    {
     "data": {
      "text/html": [
       "<div>\n",
       "<style scoped>\n",
       "    .dataframe tbody tr th:only-of-type {\n",
       "        vertical-align: middle;\n",
       "    }\n",
       "\n",
       "    .dataframe tbody tr th {\n",
       "        vertical-align: top;\n",
       "    }\n",
       "\n",
       "    .dataframe thead th {\n",
       "        text-align: right;\n",
       "    }\n",
       "</style>\n",
       "<table border=\"1\" class=\"dataframe\">\n",
       "  <thead>\n",
       "    <tr style=\"text-align: right;\">\n",
       "      <th></th>\n",
       "      <th>counts</th>\n",
       "    </tr>\n",
       "    <tr>\n",
       "      <th>label_code</th>\n",
       "      <th></th>\n",
       "    </tr>\n",
       "  </thead>\n",
       "  <tbody>\n",
       "    <tr>\n",
       "      <th>/m/01g317</th>\n",
       "      <td>807090</td>\n",
       "    </tr>\n",
       "    <tr>\n",
       "      <th>/m/09j2d</th>\n",
       "      <td>610840</td>\n",
       "    </tr>\n",
       "    <tr>\n",
       "      <th>/m/0dzct</th>\n",
       "      <td>331942</td>\n",
       "    </tr>\n",
       "    <tr>\n",
       "      <th>/m/07j7r</th>\n",
       "      <td>315026</td>\n",
       "    </tr>\n",
       "    <tr>\n",
       "      <th>/m/05s2s</th>\n",
       "      <td>266978</td>\n",
       "    </tr>\n",
       "  </tbody>\n",
       "</table>\n",
       "</div>"
      ],
      "text/plain": [
       "            counts\n",
       "label_code        \n",
       "/m/01g317   807090\n",
       "/m/09j2d    610840\n",
       "/m/0dzct    331942\n",
       "/m/07j7r    315026\n",
       "/m/05s2s    266978"
      ]
     },
     "execution_count": 39,
     "metadata": {},
     "output_type": "execute_result"
    }
   ],
   "source": [
    "df_counts.head()"
   ]
  },
  {
   "cell_type": "code",
   "execution_count": 31,
   "metadata": {},
   "outputs": [
    {
     "data": {
      "text/plain": [
       "/m/01g317    807090\n",
       "/m/09j2d     610840\n",
       "/m/0dzct     331942\n",
       "/m/07j7r     315026\n",
       "/m/05s2s     266978\n",
       "dtype: int64"
      ]
     },
     "execution_count": 13,
     "metadata": {},
     "output_type": "execute_result"
    }
   ],
   "source": [
    "counts.head()"
   ]
  },
  {
   "cell_type": "code",
   "execution_count": 14,
   "metadata": {},
   "outputs": [],
   "source": [
    "def get_top_labels(n):\n",
    "    return counts.index.values[:n].tolist()"
   ]
  },
  {
   "cell_type": "code",
   "execution_count": 15,
   "metadata": {},
   "outputs": [
    {
     "data": {
      "text/plain": [
       "(7172,)"
      ]
     },
     "execution_count": 15,
     "metadata": {},
     "output_type": "execute_result"
    }
   ],
   "source": [
    "np_counts = counts.values\n",
    "np_counts.shape"
   ]
  },
  {
   "cell_type": "code",
   "execution_count": 16,
   "metadata": {},
   "outputs": [
    {
     "name": "stdout",
     "output_type": "stream",
     "text": [
      "7117742\n"
     ]
    }
   ],
   "source": [
    "total = sum(np_counts)\n",
    "print(total)"
   ]
  },
  {
   "cell_type": "code",
   "execution_count": 17,
   "metadata": {},
   "outputs": [
    {
     "name": "stdout",
     "output_type": "stream",
     "text": [
      "0.9502540271900836\n"
     ]
    }
   ],
   "source": [
    "print(sum(np_counts[:2000])/total)"
   ]
  },
  {
   "cell_type": "code",
   "execution_count": 18,
   "metadata": {},
   "outputs": [
    {
     "name": "stdout",
     "output_type": "stream",
     "text": [
      "0.9179485572812277\n"
     ]
    }
   ],
   "source": [
    "print(sum(np_counts[:1000])/total)"
   ]
  },
  {
   "cell_type": "code",
   "execution_count": 19,
   "metadata": {},
   "outputs": [
    {
     "name": "stdout",
     "output_type": "stream",
     "text": [
      "0.890001211058226\n"
     ]
    }
   ],
   "source": [
    "print(sum(np_counts[:500])/total)"
   ]
  },
  {
   "cell_type": "code",
   "execution_count": 24,
   "metadata": {},
   "outputs": [
    {
     "name": "stdout",
     "output_type": "stream",
     "text": [
      "0.8449030605492585\n"
     ]
    }
   ],
   "source": [
    "print(sum(np_counts[:200])/total)"
   ]
  },
  {
   "cell_type": "code",
   "execution_count": 25,
   "metadata": {},
   "outputs": [
    {
     "name": "stdout",
     "output_type": "stream",
     "text": [
      "0.779682095810722\n"
     ]
    }
   ],
   "source": [
    "print(sum(np_counts[:100])/total)"
   ]
  },
  {
   "cell_type": "code",
   "execution_count": 21,
   "metadata": {},
   "outputs": [
    {
     "name": "stdout",
     "output_type": "stream",
     "text": [
      "484\n"
     ]
    }
   ],
   "source": [
    "test_classes = df_x.index.tolist()\n",
    "print(len(test_classes))"
   ]
  },
  {
   "cell_type": "code",
   "execution_count": 22,
   "metadata": {},
   "outputs": [
    {
     "name": "stdout",
     "output_type": "stream",
     "text": [
      "['/m/01g317', '/m/09j2d', '/m/0dzct', '/m/07j7r', '/m/05s2s', '/m/07yv9', '/m/0cgh4', '/m/01prls', '/m/09j5n', '/m/0jbk']\n"
     ]
    }
   ],
   "source": [
    "top500 = get_top_labels(500)\n",
    "print(top500[:10])"
   ]
  },
  {
   "cell_type": "code",
   "execution_count": 44,
   "metadata": {},
   "outputs": [
    {
     "data": {
      "text/plain": [
       "293"
      ]
     },
     "execution_count": 44,
     "metadata": {},
     "output_type": "execute_result"
    }
   ],
   "source": [
    "len(set(get_top_labels(2000)).intersection(set(test_classes)))"
   ]
  },
  {
   "cell_type": "code",
   "execution_count": null,
   "metadata": {},
   "outputs": [],
   "source": []
  }
 ],
 "metadata": {
  "kernelspec": {
   "display_name": "Python 3",
   "language": "python",
   "name": "python3"
  },
  "language_info": {
   "codemirror_mode": {
    "name": "ipython",
    "version": 3
   },
   "file_extension": ".py",
   "mimetype": "text/x-python",
   "name": "python",
   "nbconvert_exporter": "python",
   "pygments_lexer": "ipython3",
   "version": "3.6.5"
  }
 },
 "nbformat": 4,
 "nbformat_minor": 2
}
